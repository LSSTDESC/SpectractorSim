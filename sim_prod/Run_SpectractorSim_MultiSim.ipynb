{
 "cells": [
  {
   "cell_type": "markdown",
   "metadata": {},
   "source": [
    "# Spectractor Simulation\n",
    "\n",
    "Goal is to process a series of images in order to produce spectra\n",
    "\n",
    "- author Sylvie Dagoret-Campagne\n",
    "- date : April 05th 2018\n",
    "- update : April 28th 2018\n"
   ]
  },
  {
   "cell_type": "markdown",
   "metadata": {},
   "source": [
    "# Spectractor Launcher"
   ]
  },
  {
   "cell_type": "code",
   "execution_count": 1,
   "metadata": {},
   "outputs": [
    {
     "data": {
      "text/html": [
       "<style>\n",
       "    @font-face {\n",
       "        font-family: \"Computer Modern\";\n",
       "        src: url('http://mirrors.ctan.org/fonts/cm-unicode/fonts/otf/cmunss.otf');\n",
       "    }\n",
       "    div.cell{\n",
       "        width: 90%;\n",
       "/*        margin-left:auto;*/\n",
       "/*        margin-right:auto;*/\n",
       "    }\n",
       "    ul {\n",
       "        line-height: 145%;\n",
       "        font-size: 90%;\n",
       "    }\n",
       "    li {\n",
       "        margin-bottom: 1em;\n",
       "    }\n",
       "    h1 {\n",
       "        font-family: Helvetica, serif;\n",
       "    }\n",
       "    h4{\n",
       "        margin-top: 12px;\n",
       "        margin-bottom: 3px;\n",
       "       }\n",
       "    div.text_cell_render{\n",
       "        font-family: Computer Modern, \"Helvetica Neue\", Arial, Helvetica, Geneva, sans-serif;\n",
       "        line-height: 145%;\n",
       "        font-size: 130%;\n",
       "        width: 90%;\n",
       "        margin-left:auto;\n",
       "        margin-right:auto;\n",
       "    }\n",
       "    .CodeMirror{\n",
       "            font-family: \"Source Code Pro\", source-code-pro,Consolas, monospace;\n",
       "    }\n",
       "/*    .prompt{\n",
       "        display: None;\n",
       "    }*/\n",
       "    .text_cell_render h5 {\n",
       "        font-weight: 300;\n",
       "        font-size: 16pt;\n",
       "        color: #4057A1;\n",
       "        font-style: italic;\n",
       "        margin-bottom: 0.5em;\n",
       "        margin-top: 0.5em;\n",
       "        display: block;\n",
       "    }\n",
       "\n",
       "    .warning{\n",
       "        color: rgb( 240, 20, 20 )\n",
       "        }\n",
       "</style>\n",
       "<script>\n",
       "    MathJax.Hub.Config({\n",
       "                        TeX: {\n",
       "                           extensions: [\"AMSmath.js\"]\n",
       "                           },\n",
       "                tex2jax: {\n",
       "                    inlineMath: [ ['$','$'], [\"\\\\(\",\"\\\\)\"] ],\n",
       "                    displayMath: [ ['$$','$$'], [\"\\\\[\",\"\\\\]\"] ]\n",
       "                },\n",
       "                displayAlign: 'center', // Change this to 'center' to center equations.\n",
       "                \"HTML-CSS\": {\n",
       "                    styles: {'.MathJax_Display': {\"margin\": 4}}\n",
       "                }\n",
       "        });\n",
       "</script>"
      ],
      "text/plain": [
       "<IPython.core.display.HTML object>"
      ]
     },
     "execution_count": 1,
     "metadata": {},
     "output_type": "execute_result"
    }
   ],
   "source": [
    "from IPython.core.display import HTML\n",
    "def css_styling():\n",
    "    styles = open(\"../styles/custom.css\", \"r\").read()\n",
    "    return HTML(styles)\n",
    "css_styling()"
   ]
  },
  {
   "cell_type": "markdown",
   "metadata": {},
   "source": [
    "## Required packages "
   ]
  },
  {
   "cell_type": "code",
   "execution_count": 2,
   "metadata": {},
   "outputs": [],
   "source": [
    "import matplotlib.pyplot as plt\n",
    "import sys\n",
    "import os\n",
    "import glob\n",
    "import pandas as pd"
   ]
  },
  {
   "cell_type": "code",
   "execution_count": 3,
   "metadata": {},
   "outputs": [],
   "source": [
    "from astropy.io import fits"
   ]
  },
  {
   "cell_type": "code",
   "execution_count": 4,
   "metadata": {},
   "outputs": [],
   "source": [
    "%matplotlib inline\n",
    "%load_ext autoreload\n",
    "%autoreload 2"
   ]
  },
  {
   "cell_type": "code",
   "execution_count": 5,
   "metadata": {},
   "outputs": [],
   "source": [
    "# to enlarge the sizes\n",
    "params = {'legend.fontsize': 'x-large',\n",
    "          'figure.figsize': (10, 6),   #defines the default image size\n",
    "         'axes.labelsize': 'x-large',\n",
    "         'axes.titlesize':'x-large',\n",
    "         'xtick.labelsize':'x-large',\n",
    "         'ytick.labelsize':'x-large'}\n",
    "plt.rcParams.update(params)"
   ]
  },
  {
   "cell_type": "code",
   "execution_count": 6,
   "metadata": {},
   "outputs": [],
   "source": [
    "plt.rcParams.update({'figure.max_open_warning': 0}) # to see a large number of files"
   ]
  },
  {
   "cell_type": "markdown",
   "metadata": {},
   "source": [
    "## Tools"
   ]
  },
  {
   "cell_type": "markdown",
   "metadata": {},
   "source": [
    "Spectractor is supposed to be installed in paralel to Spectractorsim"
   ]
  },
  {
   "cell_type": "code",
   "execution_count": 7,
   "metadata": {},
   "outputs": [],
   "source": [
    "PATH_SPECTRACTOR='../../Spectractor'\n",
    "PATH_SPECTRACTORSIM='..'\n",
    "PATH_GMAOMERRA='../merra2'"
   ]
  },
  {
   "cell_type": "code",
   "execution_count": 8,
   "metadata": {},
   "outputs": [],
   "source": [
    "sys.path.append(PATH_SPECTRACTOR)\n",
    "sys.path.append(PATH_SPECTRACTORSIM)\n",
    "sys.path.append(PATH_GMAOMERRA)"
   ]
  },
  {
   "cell_type": "markdown",
   "metadata": {},
   "source": [
    "## Spectractor "
   ]
  },
  {
   "cell_type": "code",
   "execution_count": 9,
   "metadata": {},
   "outputs": [],
   "source": [
    "from spectractor import *"
   ]
  },
  {
   "cell_type": "markdown",
   "metadata": {},
   "source": [
    "## SpectractorSim"
   ]
  },
  {
   "cell_type": "markdown",
   "metadata": {},
   "source": [
    "from spectractorsim import *"
   ]
  },
  {
   "cell_type": "code",
   "execution_count": 10,
   "metadata": {},
   "outputs": [],
   "source": [
    "from spectractorsim import *"
   ]
  },
  {
   "cell_type": "markdown",
   "metadata": {},
   "source": [
    "## Import Merra2"
   ]
  },
  {
   "cell_type": "code",
   "execution_count": 11,
   "metadata": {},
   "outputs": [],
   "source": [
    "import libMerra2 as m2"
   ]
  },
  {
   "cell_type": "markdown",
   "metadata": {},
   "source": [
    "# Configuration"
   ]
  },
  {
   "cell_type": "markdown",
   "metadata": {},
   "source": [
    "## Spectra Input Directory"
   ]
  },
  {
   "cell_type": "code",
   "execution_count": 12,
   "metadata": {},
   "outputs": [],
   "source": [
    "home=os.getenv('HOME')"
   ]
  },
  {
   "cell_type": "code",
   "execution_count": 13,
   "metadata": {},
   "outputs": [],
   "source": [
    "path_data=os.path.join(home,'DATA/CTIODataJune2017_reduced_RG715_v2_prod1')"
   ]
  },
  {
   "cell_type": "code",
   "execution_count": 14,
   "metadata": {},
   "outputs": [],
   "source": [
    "All_Subdirs=['data_28may17','data_29may17','data_30may17','data_31may17','data_01jun17','data_02jun17',\n",
    "            'data_03jun17','data_04jun17','data_06jun17','data_08jun17','data_09jun17','data_10jun17',\n",
    "            'data_12jun17','data_13jun17']"
   ]
  },
  {
   "cell_type": "code",
   "execution_count": 15,
   "metadata": {},
   "outputs": [],
   "source": [
    "Flag_Photometric_Nights=[False,False,True,False,False,False,False,False,False,True,False,True,True,False]"
   ]
  },
  {
   "cell_type": "markdown",
   "metadata": {},
   "source": [
    "### Select one directory to produce the data"
   ]
  },
  {
   "cell_type": "code",
   "execution_count": 16,
   "metadata": {},
   "outputs": [],
   "source": [
    "idx_sel_subdir=2"
   ]
  },
  {
   "cell_type": "code",
   "execution_count": 17,
   "metadata": {},
   "outputs": [
    {
     "data": {
      "text/plain": [
       "'/afs/in2p3.fr/home/d/dagoret/DATA/CTIODataJune2017_reduced_RG715_v2_prod1'"
      ]
     },
     "execution_count": 17,
     "metadata": {},
     "output_type": "execute_result"
    }
   ],
   "source": [
    "path_data"
   ]
  },
  {
   "cell_type": "code",
   "execution_count": 18,
   "metadata": {},
   "outputs": [],
   "source": [
    "path_spectra=os.path.join(path_data,All_Subdirs[idx_sel_subdir])"
   ]
  },
  {
   "cell_type": "code",
   "execution_count": 19,
   "metadata": {},
   "outputs": [
    {
     "data": {
      "text/plain": [
       "'/afs/in2p3.fr/home/d/dagoret/DATA/CTIODataJune2017_reduced_RG715_v2_prod1/data_30may17'"
      ]
     },
     "execution_count": 19,
     "metadata": {},
     "output_type": "execute_result"
    }
   ],
   "source": [
    "path_spectra"
   ]
  },
  {
   "cell_type": "code",
   "execution_count": 20,
   "metadata": {},
   "outputs": [],
   "source": [
    "search_string=os.path.join(path_spectra,'*.fits')\n",
    "all_spectrafiles=glob.glob(search_string)"
   ]
  },
  {
   "cell_type": "code",
   "execution_count": 21,
   "metadata": {},
   "outputs": [],
   "source": [
    "all_spectrafiles=sorted(all_spectrafiles)"
   ]
  },
  {
   "cell_type": "markdown",
   "metadata": {},
   "source": [
    "## Simulation mode"
   ]
  },
  {
   "cell_type": "markdown",
   "metadata": {},
   "source": [
    "Defines three typical atmospheric conditions:\n",
    "- *clearsky* : no aerosols, no PWV, ozone =300 DU\n",
    "- *standard* : aer=0.05, pwv=4mm, ozone =300 DU \n",
    "- *merra2*   : parameters taken from merra2"
   ]
  },
  {
   "cell_type": "code",
   "execution_count": 22,
   "metadata": {},
   "outputs": [],
   "source": [
    "Sim_Modes=['clearsky','standard','merra2' ]"
   ]
  },
  {
   "cell_type": "markdown",
   "metadata": {},
   "source": [
    "## Output directory"
   ]
  },
  {
   "cell_type": "markdown",
   "metadata": {},
   "source": [
    "defines the different output directories corresponding to each simulation mode"
   ]
  },
  {
   "cell_type": "code",
   "execution_count": 23,
   "metadata": {},
   "outputs": [],
   "source": [
    "topoutputdir=os.path.join(\"./CTIODataJune2017_reduced_RG715_v2_prod1_SimSpectra\",All_Subdirs[idx_sel_subdir])\n",
    "all_outputdirs=[]\n",
    "for simmode in Sim_Modes:\n",
    "    outputdir=os.path.join(topoutputdir,simmode)\n",
    "    all_outputdirs.append(outputdir)\n",
    "    ensure_dir(outputdir)"
   ]
  },
  {
   "cell_type": "code",
   "execution_count": 24,
   "metadata": {},
   "outputs": [
    {
     "name": "stdout",
     "output_type": "stream",
     "text": [
      "['./CTIODataJune2017_reduced_RG715_v2_prod1_SimSpectra/data_30may17/clearsky', './CTIODataJune2017_reduced_RG715_v2_prod1_SimSpectra/data_30may17/standard', './CTIODataJune2017_reduced_RG715_v2_prod1_SimSpectra/data_30may17/merra2']\n"
     ]
    }
   ],
   "source": [
    "print all_outputdirs"
   ]
  },
  {
   "cell_type": "markdown",
   "metadata": {},
   "source": [
    "## Logbook"
   ]
  },
  {
   "cell_type": "markdown",
   "metadata": {},
   "source": [
    "For the moment, the logbook is in the local directory"
   ]
  },
  {
   "cell_type": "code",
   "execution_count": 25,
   "metadata": {},
   "outputs": [],
   "source": [
    "file_logbook_csv=os.path.join(PATH_SPECTRACTOR,'ctiofulllogbook_jun2017_v4.csv')"
   ]
  },
  {
   "cell_type": "code",
   "execution_count": 26,
   "metadata": {},
   "outputs": [],
   "source": [
    "df_ctio_lbk=pd.read_csv(file_logbook_csv,sep=';')"
   ]
  },
  {
   "cell_type": "code",
   "execution_count": 27,
   "metadata": {},
   "outputs": [
    {
     "data": {
      "text/plain": [
       "Index([u'Unnamed: 0', u'date', u'subdir', u'index', u'object', u'filter',\n",
       "       u'disperser', u'airmass', u'exposure', u'focus', u'seeing', u'P', u'T',\n",
       "       u'RH', u'W', u'file', u'Obj-posXpix', u'Obj-posYpix', u'Dx', u'Dy',\n",
       "       u'comment', u'skip'],\n",
       "      dtype='object')"
      ]
     },
     "execution_count": 27,
     "metadata": {},
     "output_type": "execute_result"
    }
   ],
   "source": [
    "df_ctio_lbk.columns"
   ]
  },
  {
   "cell_type": "code",
   "execution_count": 28,
   "metadata": {},
   "outputs": [],
   "source": [
    "df_ctio_lbk=df_ctio_lbk.reindex(columns=['date','P','T','RH','airmass','seeing','exposure','object','filter','disperser','focus','W','subdir','file']).set_index('date').sort_index()"
   ]
  },
  {
   "cell_type": "code",
   "execution_count": 29,
   "metadata": {},
   "outputs": [
    {
     "data": {
      "text/html": [
       "<div>\n",
       "<table border=\"1\" class=\"dataframe\">\n",
       "  <thead>\n",
       "    <tr style=\"text-align: right;\">\n",
       "      <th></th>\n",
       "      <th>P</th>\n",
       "      <th>T</th>\n",
       "      <th>RH</th>\n",
       "      <th>airmass</th>\n",
       "      <th>seeing</th>\n",
       "      <th>exposure</th>\n",
       "      <th>object</th>\n",
       "      <th>filter</th>\n",
       "      <th>disperser</th>\n",
       "      <th>focus</th>\n",
       "      <th>W</th>\n",
       "      <th>subdir</th>\n",
       "      <th>file</th>\n",
       "    </tr>\n",
       "    <tr>\n",
       "      <th>date</th>\n",
       "      <th></th>\n",
       "      <th></th>\n",
       "      <th></th>\n",
       "      <th></th>\n",
       "      <th></th>\n",
       "      <th></th>\n",
       "      <th></th>\n",
       "      <th></th>\n",
       "      <th></th>\n",
       "      <th></th>\n",
       "      <th></th>\n",
       "      <th></th>\n",
       "      <th></th>\n",
       "    </tr>\n",
       "  </thead>\n",
       "  <tbody>\n",
       "    <tr>\n",
       "      <th>2017-05-28T01:36:40.705</th>\n",
       "      <td>779</td>\n",
       "      <td>5,6</td>\n",
       "      <td>60</td>\n",
       "      <td>1,009</td>\n",
       "      <td>1,443</td>\n",
       "      <td>5</td>\n",
       "      <td>pointing</td>\n",
       "      <td>dia</td>\n",
       "      <td>Thor300</td>\n",
       "      <td>0</td>\n",
       "      <td>8,9</td>\n",
       "      <td>data_26may17</td>\n",
       "      <td>reduc_20170526_001.fits</td>\n",
       "    </tr>\n",
       "    <tr>\n",
       "      <th>2017-05-28T01:41:52.197</th>\n",
       "      <td>780</td>\n",
       "      <td>5,6</td>\n",
       "      <td>60</td>\n",
       "      <td>1,007</td>\n",
       "      <td>1,39</td>\n",
       "      <td>5</td>\n",
       "      <td>pointing</td>\n",
       "      <td>dia</td>\n",
       "      <td>Ron400</td>\n",
       "      <td>0</td>\n",
       "      <td>10,8</td>\n",
       "      <td>data_26may17</td>\n",
       "      <td>reduc_20170526_002.fits</td>\n",
       "    </tr>\n",
       "    <tr>\n",
       "      <th>2017-05-28T01:46:06.150</th>\n",
       "      <td>779</td>\n",
       "      <td>5,9</td>\n",
       "      <td>59</td>\n",
       "      <td>1,057</td>\n",
       "      <td>1,255</td>\n",
       "      <td>5</td>\n",
       "      <td>pointing</td>\n",
       "      <td>dia</td>\n",
       "      <td>Ron400</td>\n",
       "      <td>0</td>\n",
       "      <td>6,8</td>\n",
       "      <td>data_26may17</td>\n",
       "      <td>reduc_20170526_003.fits</td>\n",
       "    </tr>\n",
       "    <tr>\n",
       "      <th>2017-05-28T01:50:31.257</th>\n",
       "      <td>779</td>\n",
       "      <td>5,9</td>\n",
       "      <td>57</td>\n",
       "      <td>1,057</td>\n",
       "      <td>1,409</td>\n",
       "      <td>5</td>\n",
       "      <td>pointing</td>\n",
       "      <td>dia</td>\n",
       "      <td>Ron400</td>\n",
       "      <td>0</td>\n",
       "      <td>9,1</td>\n",
       "      <td>data_26may17</td>\n",
       "      <td>reduc_20170526_004.fits</td>\n",
       "    </tr>\n",
       "    <tr>\n",
       "      <th>2017-05-28T01:58:18.598</th>\n",
       "      <td>779</td>\n",
       "      <td>5,9</td>\n",
       "      <td>0</td>\n",
       "      <td>1,058</td>\n",
       "      <td>1,293</td>\n",
       "      <td>5</td>\n",
       "      <td>pointing</td>\n",
       "      <td>dia</td>\n",
       "      <td>Ron400</td>\n",
       "      <td>0</td>\n",
       "      <td>14,7</td>\n",
       "      <td>data_26may17</td>\n",
       "      <td>reduc_20170526_005.fits</td>\n",
       "    </tr>\n",
       "  </tbody>\n",
       "</table>\n",
       "</div>"
      ],
      "text/plain": [
       "                           P    T  RH airmass seeing exposure    object  \\\n",
       "date                                                                      \n",
       "2017-05-28T01:36:40.705  779  5,6  60   1,009  1,443        5  pointing   \n",
       "2017-05-28T01:41:52.197  780  5,6  60   1,007   1,39        5  pointing   \n",
       "2017-05-28T01:46:06.150  779  5,9  59   1,057  1,255        5  pointing   \n",
       "2017-05-28T01:50:31.257  779  5,9  57   1,057  1,409        5  pointing   \n",
       "2017-05-28T01:58:18.598  779  5,9   0   1,058  1,293        5  pointing   \n",
       "\n",
       "                        filter disperser  focus     W        subdir  \\\n",
       "date                                                                  \n",
       "2017-05-28T01:36:40.705    dia   Thor300      0   8,9  data_26may17   \n",
       "2017-05-28T01:41:52.197    dia    Ron400      0  10,8  data_26may17   \n",
       "2017-05-28T01:46:06.150    dia    Ron400      0   6,8  data_26may17   \n",
       "2017-05-28T01:50:31.257    dia    Ron400      0   9,1  data_26may17   \n",
       "2017-05-28T01:58:18.598    dia    Ron400      0  14,7  data_26may17   \n",
       "\n",
       "                                            file  \n",
       "date                                              \n",
       "2017-05-28T01:36:40.705  reduc_20170526_001.fits  \n",
       "2017-05-28T01:41:52.197  reduc_20170526_002.fits  \n",
       "2017-05-28T01:46:06.150  reduc_20170526_003.fits  \n",
       "2017-05-28T01:50:31.257  reduc_20170526_004.fits  \n",
       "2017-05-28T01:58:18.598  reduc_20170526_005.fits  "
      ]
     },
     "execution_count": 29,
     "metadata": {},
     "output_type": "execute_result"
    }
   ],
   "source": [
    "df_ctio_lbk.head()"
   ]
  },
  {
   "cell_type": "markdown",
   "metadata": {},
   "source": [
    "### Extract the relevant data and sort by the column index"
   ]
  },
  {
   "cell_type": "code",
   "execution_count": 30,
   "metadata": {},
   "outputs": [],
   "source": [
    "all_obs=df_ctio_lbk.loc[(df_ctio_lbk[\"subdir\"]==All_Subdirs[idx_sel_subdir])].sort_index()"
   ]
  },
  {
   "cell_type": "code",
   "execution_count": 31,
   "metadata": {},
   "outputs": [
    {
     "data": {
      "text/html": [
       "<div>\n",
       "<table border=\"1\" class=\"dataframe\">\n",
       "  <thead>\n",
       "    <tr style=\"text-align: right;\">\n",
       "      <th></th>\n",
       "      <th>P</th>\n",
       "      <th>T</th>\n",
       "      <th>RH</th>\n",
       "      <th>airmass</th>\n",
       "      <th>seeing</th>\n",
       "      <th>exposure</th>\n",
       "      <th>object</th>\n",
       "      <th>filter</th>\n",
       "      <th>disperser</th>\n",
       "      <th>focus</th>\n",
       "      <th>W</th>\n",
       "      <th>subdir</th>\n",
       "      <th>file</th>\n",
       "    </tr>\n",
       "    <tr>\n",
       "      <th>date</th>\n",
       "      <th></th>\n",
       "      <th></th>\n",
       "      <th></th>\n",
       "      <th></th>\n",
       "      <th></th>\n",
       "      <th></th>\n",
       "      <th></th>\n",
       "      <th></th>\n",
       "      <th></th>\n",
       "      <th></th>\n",
       "      <th></th>\n",
       "      <th></th>\n",
       "      <th></th>\n",
       "    </tr>\n",
       "  </thead>\n",
       "  <tbody>\n",
       "    <tr>\n",
       "      <th>2017-05-30T21:17:00.652</th>\n",
       "      <td>782</td>\n",
       "      <td>7,6</td>\n",
       "      <td>36</td>\n",
       "      <td>1,181</td>\n",
       "      <td>1,724</td>\n",
       "      <td>0</td>\n",
       "      <td>bias</td>\n",
       "      <td>RG715</td>\n",
       "      <td>Ron400</td>\n",
       "      <td>12650</td>\n",
       "      <td>5,6</td>\n",
       "      <td>data_30may17</td>\n",
       "      <td>reduc_20170630_001.fits</td>\n",
       "    </tr>\n",
       "    <tr>\n",
       "      <th>2017-05-30T21:17:44.185</th>\n",
       "      <td>782</td>\n",
       "      <td>7,6</td>\n",
       "      <td>36</td>\n",
       "      <td>1,181</td>\n",
       "      <td>1,724</td>\n",
       "      <td>0</td>\n",
       "      <td>bias</td>\n",
       "      <td>RG715</td>\n",
       "      <td>Ron400</td>\n",
       "      <td>12650</td>\n",
       "      <td>5,6</td>\n",
       "      <td>data_30may17</td>\n",
       "      <td>reduc_20170630_002.fits</td>\n",
       "    </tr>\n",
       "    <tr>\n",
       "      <th>2017-05-30T21:18:27.708</th>\n",
       "      <td>782</td>\n",
       "      <td>7,5</td>\n",
       "      <td>36</td>\n",
       "      <td>1,181</td>\n",
       "      <td>1,724</td>\n",
       "      <td>0</td>\n",
       "      <td>bias</td>\n",
       "      <td>RG715</td>\n",
       "      <td>Ron400</td>\n",
       "      <td>12650</td>\n",
       "      <td>4,9</td>\n",
       "      <td>data_30may17</td>\n",
       "      <td>reduc_20170630_003.fits</td>\n",
       "    </tr>\n",
       "    <tr>\n",
       "      <th>2017-05-30T21:19:11.234</th>\n",
       "      <td>782</td>\n",
       "      <td>7,5</td>\n",
       "      <td>36</td>\n",
       "      <td>1,181</td>\n",
       "      <td>1,724</td>\n",
       "      <td>0</td>\n",
       "      <td>bias</td>\n",
       "      <td>RG715</td>\n",
       "      <td>Ron400</td>\n",
       "      <td>12650</td>\n",
       "      <td>4,7</td>\n",
       "      <td>data_30may17</td>\n",
       "      <td>reduc_20170630_004.fits</td>\n",
       "    </tr>\n",
       "    <tr>\n",
       "      <th>2017-05-30T21:19:54.772</th>\n",
       "      <td>782</td>\n",
       "      <td>7,5</td>\n",
       "      <td>36</td>\n",
       "      <td>1,181</td>\n",
       "      <td>1,724</td>\n",
       "      <td>0</td>\n",
       "      <td>bias</td>\n",
       "      <td>RG715</td>\n",
       "      <td>Ron400</td>\n",
       "      <td>12650</td>\n",
       "      <td>4,7</td>\n",
       "      <td>data_30may17</td>\n",
       "      <td>reduc_20170630_005.fits</td>\n",
       "    </tr>\n",
       "  </tbody>\n",
       "</table>\n",
       "</div>"
      ],
      "text/plain": [
       "                           P    T  RH airmass seeing exposure object filter  \\\n",
       "date                                                                          \n",
       "2017-05-30T21:17:00.652  782  7,6  36   1,181  1,724        0   bias  RG715   \n",
       "2017-05-30T21:17:44.185  782  7,6  36   1,181  1,724        0   bias  RG715   \n",
       "2017-05-30T21:18:27.708  782  7,5  36   1,181  1,724        0   bias  RG715   \n",
       "2017-05-30T21:19:11.234  782  7,5  36   1,181  1,724        0   bias  RG715   \n",
       "2017-05-30T21:19:54.772  782  7,5  36   1,181  1,724        0   bias  RG715   \n",
       "\n",
       "                        disperser  focus    W        subdir  \\\n",
       "date                                                          \n",
       "2017-05-30T21:17:00.652    Ron400  12650  5,6  data_30may17   \n",
       "2017-05-30T21:17:44.185    Ron400  12650  5,6  data_30may17   \n",
       "2017-05-30T21:18:27.708    Ron400  12650  4,9  data_30may17   \n",
       "2017-05-30T21:19:11.234    Ron400  12650  4,7  data_30may17   \n",
       "2017-05-30T21:19:54.772    Ron400  12650  4,7  data_30may17   \n",
       "\n",
       "                                            file  \n",
       "date                                              \n",
       "2017-05-30T21:17:00.652  reduc_20170630_001.fits  \n",
       "2017-05-30T21:17:44.185  reduc_20170630_002.fits  \n",
       "2017-05-30T21:18:27.708  reduc_20170630_003.fits  \n",
       "2017-05-30T21:19:11.234  reduc_20170630_004.fits  \n",
       "2017-05-30T21:19:54.772  reduc_20170630_005.fits  "
      ]
     },
     "execution_count": 31,
     "metadata": {},
     "output_type": "execute_result"
    }
   ],
   "source": [
    "all_obs.head()"
   ]
  },
  {
   "cell_type": "markdown",
   "metadata": {},
   "source": [
    "## MERRA2"
   ]
  },
  {
   "cell_type": "code",
   "execution_count": 32,
   "metadata": {},
   "outputs": [],
   "source": [
    "file_merra2=os.path.join(PATH_GMAOMERRA,'MERRA2_2017_M2I1NXASM_M2T1NXAER_M2T1NXRAD_ctio_AllYear.csv')\n",
    "df_merra2=pd.read_csv(file_merra2,index_col=0)\n",
    "df_merra2.index.name='time'\n",
    "# convert the string into timestamp\n",
    "#-------------------------------------\n",
    "all_datetime_merra2=pd.to_datetime(df_merra2.index.get_values())"
   ]
  },
  {
   "cell_type": "code",
   "execution_count": 33,
   "metadata": {},
   "outputs": [
    {
     "data": {
      "text/html": [
       "<div>\n",
       "<table border=\"1\" class=\"dataframe\">\n",
       "  <thead>\n",
       "    <tr style=\"text-align: right;\">\n",
       "      <th></th>\n",
       "      <th>ps</th>\n",
       "      <th>pwv</th>\n",
       "      <th>ozone</th>\n",
       "      <th>TOTEXTTAU</th>\n",
       "      <th>TOTANGSTR</th>\n",
       "      <th>TOTSCATAU</th>\n",
       "      <th>TAUTOT</th>\n",
       "      <th>TAUHGH</th>\n",
       "      <th>TAUMID</th>\n",
       "      <th>TAULOW</th>\n",
       "    </tr>\n",
       "    <tr>\n",
       "      <th>time</th>\n",
       "      <th></th>\n",
       "      <th></th>\n",
       "      <th></th>\n",
       "      <th></th>\n",
       "      <th></th>\n",
       "      <th></th>\n",
       "      <th></th>\n",
       "      <th></th>\n",
       "      <th></th>\n",
       "      <th></th>\n",
       "    </tr>\n",
       "  </thead>\n",
       "  <tbody>\n",
       "    <tr>\n",
       "      <th>2017-04-30 00:00:00</th>\n",
       "      <td>78636.914062</td>\n",
       "      <td>2.822547</td>\n",
       "      <td>260.352051</td>\n",
       "      <td>NaN</td>\n",
       "      <td>NaN</td>\n",
       "      <td>NaN</td>\n",
       "      <td>NaN</td>\n",
       "      <td>NaN</td>\n",
       "      <td>NaN</td>\n",
       "      <td>NaN</td>\n",
       "    </tr>\n",
       "    <tr>\n",
       "      <th>2017-04-30 00:30:00</th>\n",
       "      <td>NaN</td>\n",
       "      <td>NaN</td>\n",
       "      <td>NaN</td>\n",
       "      <td>0.029347</td>\n",
       "      <td>1.307469</td>\n",
       "      <td>0.027696</td>\n",
       "      <td>0.0</td>\n",
       "      <td>0.0</td>\n",
       "      <td>0.0</td>\n",
       "      <td>0.0</td>\n",
       "    </tr>\n",
       "    <tr>\n",
       "      <th>2017-04-30 01:00:00</th>\n",
       "      <td>78649.085938</td>\n",
       "      <td>2.668410</td>\n",
       "      <td>261.006653</td>\n",
       "      <td>NaN</td>\n",
       "      <td>NaN</td>\n",
       "      <td>NaN</td>\n",
       "      <td>NaN</td>\n",
       "      <td>NaN</td>\n",
       "      <td>NaN</td>\n",
       "      <td>NaN</td>\n",
       "    </tr>\n",
       "    <tr>\n",
       "      <th>2017-04-30 01:30:00</th>\n",
       "      <td>NaN</td>\n",
       "      <td>NaN</td>\n",
       "      <td>NaN</td>\n",
       "      <td>0.028410</td>\n",
       "      <td>1.303434</td>\n",
       "      <td>0.026786</td>\n",
       "      <td>0.0</td>\n",
       "      <td>0.0</td>\n",
       "      <td>0.0</td>\n",
       "      <td>0.0</td>\n",
       "    </tr>\n",
       "    <tr>\n",
       "      <th>2017-04-30 02:00:00</th>\n",
       "      <td>78661.726562</td>\n",
       "      <td>2.609197</td>\n",
       "      <td>261.566254</td>\n",
       "      <td>NaN</td>\n",
       "      <td>NaN</td>\n",
       "      <td>NaN</td>\n",
       "      <td>NaN</td>\n",
       "      <td>NaN</td>\n",
       "      <td>NaN</td>\n",
       "      <td>NaN</td>\n",
       "    </tr>\n",
       "  </tbody>\n",
       "</table>\n",
       "</div>"
      ],
      "text/plain": [
       "                               ps       pwv       ozone  TOTEXTTAU  TOTANGSTR  \\\n",
       "time                                                                            \n",
       "2017-04-30 00:00:00  78636.914062  2.822547  260.352051        NaN        NaN   \n",
       "2017-04-30 00:30:00           NaN       NaN         NaN   0.029347   1.307469   \n",
       "2017-04-30 01:00:00  78649.085938  2.668410  261.006653        NaN        NaN   \n",
       "2017-04-30 01:30:00           NaN       NaN         NaN   0.028410   1.303434   \n",
       "2017-04-30 02:00:00  78661.726562  2.609197  261.566254        NaN        NaN   \n",
       "\n",
       "                     TOTSCATAU  TAUTOT  TAUHGH  TAUMID  TAULOW  \n",
       "time                                                            \n",
       "2017-04-30 00:00:00        NaN     NaN     NaN     NaN     NaN  \n",
       "2017-04-30 00:30:00   0.027696     0.0     0.0     0.0     0.0  \n",
       "2017-04-30 01:00:00        NaN     NaN     NaN     NaN     NaN  \n",
       "2017-04-30 01:30:00   0.026786     0.0     0.0     0.0     0.0  \n",
       "2017-04-30 02:00:00        NaN     NaN     NaN     NaN     NaN  "
      ]
     },
     "execution_count": 33,
     "metadata": {},
     "output_type": "execute_result"
    }
   ],
   "source": [
    "df_merra2.head()"
   ]
  },
  {
   "cell_type": "markdown",
   "metadata": {},
   "source": [
    "## SpectractorSim config"
   ]
  },
  {
   "cell_type": "markdown",
   "metadata": {},
   "source": [
    "### Setting the parameters of SpectractorSim"
   ]
  },
  {
   "cell_type": "code",
   "execution_count": 34,
   "metadata": {},
   "outputs": [],
   "source": [
    "parameters.VERBOSE = False\n",
    "parameters.DEBUG = False"
   ]
  },
  {
   "cell_type": "code",
   "execution_count": 35,
   "metadata": {},
   "outputs": [],
   "source": [
    "def get_image_filename(filename):\n",
    "    \"\"\"\n",
    "    Retretrieve the image name from the spectrum filename\n",
    "    \"\"\"\n",
    "    base_filename=os.path.basename(filename)\n",
    "    dir_filename=os.path.dirname(filename)\n",
    "    rootname,ext=base_filename.split('.')\n",
    "    splitrootname=rootname.split('_')\n",
    "    fn=splitrootname[0]+'_'+splitrootname[1]+'_'+splitrootname[2]+'.'+ext\n",
    "    tag=splitrootname[1]+'_'+splitrootname[2]\n",
    "    return fn,tag"
   ]
  },
  {
   "cell_type": "markdown",
   "metadata": {},
   "source": [
    "# Simulation"
   ]
  },
  {
   "cell_type": "markdown",
   "metadata": {},
   "source": [
    "- loop on the spectra filename\n",
    "- extract the image filename\n",
    "- identify the row in the logbook corresponding to the image filename\n",
    "- extract the image time and pressure"
   ]
  },
  {
   "cell_type": "code",
   "execution_count": 36,
   "metadata": {},
   "outputs": [],
   "source": [
    "for idx,theinputfilename in np.ndenumerate(all_spectrafiles):   \n",
    "    image_fn,tagname=get_image_filename(theinputfilename)\n",
    "    theoutputfilename='specsim_'+tagname+'_spectrum'+'.fits'\n",
    "    \n",
    "    dts=all_obs[all_obs.file==image_fn]  # exctract the info from the logbook\n",
    "    \n",
    "    #extract info from the logbook\n",
    "    thetime_ctio=dts.index.get_values()[0]\n",
    "    theobject_ctio=dts[\"object\"][0]\n",
    "    thepressure_ctio=dts[\"P\"][0]\n",
    "    thetemperature_ctio=dts[\"T\"][0]\n",
    "    theairmass_ctio=dts['airmass']\n",
    "    \n",
    "    #extract the info from MERRA2\n",
    "    timestamp0=pd.to_datetime(thetime_ctio)\n",
    "    ps_m2,pwv_m2,ozone_m2,aer_m2,clouds_m2,deltat1_m2,deltat2_m2=m2.GetAtmosphericParameters(timestamp0,df_merra2)\n",
    "    \n",
    "    #decide which weather conditions should be sued\n",
    "    if thepressure_ctio>700:\n",
    "        thepressure_tosim=thepressure_ctio\n",
    "        thetemperature_tosim=thetemperature_ctio\n",
    "    \n",
    "    else:\n",
    "        # do not take the pressure of Merra2 which is over-estimated\n",
    "        thepressure_tosim=782.5  # this value is hardcoded in SpectractorSim if thepressure_ctio is wrong, ie thepressure_ctio=-4\n",
    "        thetemperature_tosim=10.0\n",
    "        \n",
    "    # initialisation of values to sim\n",
    "    pwv_tosim=0.\n",
    "    ozone_tosim=300.\n",
    "    aer_tosim=0.\n",
    "    clouds_tosim=clouds_m2 # on extinction is apllied, but only kept by memory\n",
    "    \n",
    "    # loop on pre-defined simulation  modes\n",
    "    for idx2,simmode in np.ndenumerate(Sim_Modes):\n",
    "        # defines output\n",
    "        outputdir=all_outputdirs[idx2[0]]  # the directory where the result are to be written\n",
    "        \n",
    "        # defines simulation conditions\n",
    "        if simmode=='clearsky':\n",
    "            pwv_tosim=0.\n",
    "            ozone_tosim=300.\n",
    "            aer_tosim=0.\n",
    "            \n",
    "        elif simmode=='standard':\n",
    "            pwv_tosim=4.0\n",
    "            ozone_tosim=300.\n",
    "            aer_tosim=0.05\n",
    "          \n",
    "        elif simmode=='merra2':\n",
    "            pwv_tosim=pwv_m2\n",
    "            ozone_tosim=300.\n",
    "            aer_tosim=0.\n",
    "        else:\n",
    "            print 'unknown sim mode :',simmode\n",
    "        \n",
    "        # simulate the spectrum\n",
    "        theoutputfullfilename=os.path.join(outputdir,theoutputfilename)\n",
    "        if os.path.exists(theoutputfullfilename) and os.path.getsize(theoutputfullfilename)>MINFILESIZE: \n",
    "            print \"skip simulation of \", theoutputfilename,' already existing in ',outputdir,' with size ',os.path.getsize(theoutputfullfilename)\n",
    "        else:\n",
    "            spectrum_simulation = SpectractorSim(theinputfilename,outputdir,lambdas=WL,pwv=pwv_tosim,ozone=ozone_tosim,aerosols=aer_tosim)\n",
    "            \n",
    "            #save simulation conditions in a logfile\n",
    "            simu_log={'time': [thetime_ctio],'object':[theobject_ctio],'airmass': [theairmass_ctio],\n",
    "                  'P':[thepressure_tosim],'T':[thetemperature_tosim],\n",
    "                 'pwv':[pwv_tosim],'ozone':[ozone_tosim],'aer':[aer_tosim],'clouds':[clouds_tosim],'simumode':[simmode]}\n",
    "            filename_log='log_simu'+'_'+tagname+'_spectrum'+'.csv'\n",
    "            dts_log=pd.DataFrame(data=simu_log)\n",
    "            dts_log.to_csv(os.path.join(outputdir,filename_log))\n",
    "        \n",
    "            # pick some samples to check\n",
    "            if idx[0]%10==0:\n",
    "                print '============================ idx=',idx[0],' ===== file =',os.path.basename(theinputfilename),'==================='\n",
    "                print dts_log\n",
    "                #spectrum_simulation.plot_spectrum(nofit=True)"
   ]
  },
  {
   "cell_type": "code",
   "execution_count": null,
   "metadata": {},
   "outputs": [],
   "source": []
  }
 ],
 "metadata": {
  "kernelspec": {
   "display_name": "Python 2",
   "language": "python",
   "name": "python2"
  },
  "language_info": {
   "codemirror_mode": {
    "name": "ipython",
    "version": 2
   },
   "file_extension": ".py",
   "mimetype": "text/x-python",
   "name": "python",
   "nbconvert_exporter": "python",
   "pygments_lexer": "ipython2",
   "version": "2.7.14"
  },
  "toc": {
   "nav_menu": {},
   "number_sections": true,
   "sideBar": true,
   "skip_h1_title": false,
   "toc_cell": false,
   "toc_position": {},
   "toc_section_display": "block",
   "toc_window_display": false
  }
 },
 "nbformat": 4,
 "nbformat_minor": 2
}
